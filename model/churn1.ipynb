{
 "cells": [
  {
   "cell_type": "code",
   "execution_count": 3,
   "id": "50e592f8",
   "metadata": {},
   "outputs": [
    {
     "name": "stdout",
     "output_type": "stream",
     "text": [
      "Dataset Shape: (1000, 9)\n",
      "Fitting 3 folds for each of 72 candidates, totalling 216 fits\n"
     ]
    },
    {
     "name": "stderr",
     "output_type": "stream",
     "text": [
      "c:\\Users\\Shravya H Jain\\Desktop\\Churn\\Pingbix_company_interview\\.venv\\Lib\\site-packages\\xgboost\\training.py:183: UserWarning: [17:52:57] WARNING: C:\\actions-runner\\_work\\xgboost\\xgboost\\src\\learner.cc:738: \n",
      "Parameters: { \"use_label_encoder\" } are not used.\n",
      "\n",
      "  bst.update(dtrain, iteration=i, fobj=obj)\n"
     ]
    },
    {
     "name": "stdout",
     "output_type": "stream",
     "text": [
      "Best XGBoost Params: {'colsample_bytree': 0.8, 'learning_rate': 0.05, 'max_depth': 3, 'n_estimators': 200, 'subsample': 0.8}\n",
      "\n",
      "===== Stacking Ensemble Results =====\n",
      "Accuracy: 0.9523809523809523\n",
      "Classification Report:\n",
      "               precision    recall  f1-score   support\n",
      "\n",
      "           0       0.94      0.97      0.95       105\n",
      "           1       0.97      0.93      0.95       105\n",
      "\n",
      "    accuracy                           0.95       210\n",
      "   macro avg       0.95      0.95      0.95       210\n",
      "weighted avg       0.95      0.95      0.95       210\n",
      "\n",
      "Confusion Matrix:\n",
      " [[102   3]\n",
      " [  7  98]]\n"
     ]
    },
    {
     "data": {
      "image/png": "[encoded data removed]",
      "text/plain": [
       "<Figure size 600x400 with 1 Axes>"
      ]
     },
     "metadata": {},
     "output_type": "display_data"
    },
    {
     "name": "stdout",
     "output_type": "stream",
     "text": [
      "✅ Best model (stacking ensemble) and scaler saved successfully!\n"
     ]
    }
   ],
   "source": [
    "import pandas as pd\n",
    "import numpy as np\n",
    "import joblib\n",
    "import matplotlib.pyplot as plt\n",
    "\n",
    "from sklearn.preprocessing import LabelEncoder, StandardScaler\n",
    "from sklearn.model_selection import train_test_split, GridSearchCV, StratifiedKFold\n",
    "from sklearn.metrics import accuracy_score, classification_report, confusion_matrix, roc_curve, auc\n",
    "\n",
    "from sklearn.linear_model import LogisticRegression\n",
    "from sklearn.ensemble import RandomForestClassifier, GradientBoostingClassifier, StackingClassifier\n",
    "from xgboost import XGBClassifier\n",
    "from imblearn.over_sampling import SMOTE\n",
    "\n",
    "# =======================\n",
    "# Step 1: Load Data\n",
    "# =======================\n",
    "df = pd.read_csv(\"bank_churn_dataset.csv\")\n",
    "print(\"Dataset Shape:\", df.shape)\n",
    "\n",
    "# =======================\n",
    "# Step 2: Preprocessing\n",
    "# =======================\n",
    "if \"CustomerId\" in df.columns:\n",
    "    df.drop([\"CustomerId\"], axis=1, inplace=True)\n",
    "if \"Surname\" in df.columns:\n",
    "    df.drop([\"Surname\"], axis=1, inplace=True)\n",
    "\n",
    "if \"Gender\" in df.columns:\n",
    "    le = LabelEncoder()\n",
    "    df[\"Gender\"] = le.fit_transform(df[\"Gender\"])  # Male=1, Female=0\n",
    "\n",
    "# Feature Engineering\n",
    "df[\"BalanceSalaryRatio\"] = df[\"Balance\"] / (df[\"EstimatedSalary\"] + 1)\n",
    "df[\"AgeNumProducts\"] = df[\"Age\"] * df[\"NumOfProducts\"]\n",
    "df[\"CreditAgeRatio\"] = df[\"CreditScore\"] / (df[\"Age\"] + 1)\n",
    "\n",
    "X = df.drop(\"Exited\", axis=1)\n",
    "y = df[\"Exited\"]\n",
    "\n",
    "# Scale features\n",
    "scaler = StandardScaler()\n",
    "X_scaled = scaler.fit_transform(X)\n",
    "\n",
    "# Handle imbalance with SMOTE\n",
    "smote = SMOTE(random_state=42)\n",
    "X_res, y_res = smote.fit_resample(X_scaled, y)\n",
    "\n",
    "# Train-test split\n",
    "X_train, X_test, y_train, y_test = train_test_split(\n",
    "    X_res, y_res, test_size=0.2, random_state=42, stratify=y_res\n",
    ")\n",
    "\n",
    "# =======================\n",
    "# Step 3: Hyperparameter Tuning (XGBoost)\n",
    "# =======================\n",
    "params = {\n",
    "    \"n_estimators\": [200, 500],\n",
    "    \"max_depth\": [3, 5, 7],\n",
    "    \"learning_rate\": [0.01, 0.05, 0.1],\n",
    "    \"subsample\": [0.8, 1.0],\n",
    "    \"colsample_bytree\": [0.8, 1.0]\n",
    "}\n",
    "\n",
    "xgb = XGBClassifier(eval_metric=\"logloss\", random_state=42, use_label_encoder=False)\n",
    "grid = GridSearchCV(xgb, params, cv=3, scoring=\"accuracy\", verbose=1, n_jobs=-1)\n",
    "grid.fit(X_train, y_train)\n",
    "\n",
    "best_xgb = grid.best_estimator_\n",
    "print(\"Best XGBoost Params:\", grid.best_params_)\n",
    "\n",
    "# =======================\n",
    "# Step 4: Stacking Ensemble\n",
    "# =======================\n",
    "stack = StackingClassifier(\n",
    "    estimators=[\n",
    "        (\"rf\", RandomForestClassifier(n_estimators=500, random_state=42)),\n",
    "        (\"gb\", GradientBoostingClassifier(random_state=42)),\n",
    "        (\"xgb\", best_xgb)\n",
    "    ],\n",
    "    final_estimator=LogisticRegression(max_iter=1000),\n",
    "    n_jobs=-1\n",
    ")\n",
    "\n",
    "stack.fit(X_train, y_train)\n",
    "y_pred = stack.predict(X_test)\n",
    "\n",
    "# =======================\n",
    "# Step 5: Evaluation\n",
    "# =======================\n",
    "acc = accuracy_score(y_test, y_pred)\n",
    "print(\"\\n===== Stacking Ensemble Results =====\")\n",
    "print(\"Accuracy:\", acc)\n",
    "print(\"Classification Report:\\n\", classification_report(y_test, y_pred))\n",
    "print(\"Confusion Matrix:\\n\", confusion_matrix(y_test, y_pred))\n",
    "\n",
    "# ROC Curve\n",
    "y_prob = stack.predict_proba(X_test)[:,1]\n",
    "fpr, tpr, _ = roc_curve(y_test, y_prob)\n",
    "plt.figure(figsize=(6,4))\n",
    "plt.plot(fpr, tpr, label=f\"Stacking Ensemble (AUC = {auc(fpr,tpr):.2f})\")\n",
    "plt.plot([0,1],[0,1],'k--')\n",
    "plt.xlabel(\"False Positive Rate\")\n",
    "plt.ylabel(\"True Positive Rate\")\n",
    "plt.title(\"ROC Curve\")\n",
    "plt.legend()\n",
    "plt.show()\n",
    "\n",
    "# =======================\n",
    "# Step 6: Save Model\n",
    "# =======================\n",
    "joblib.dump(stack, \"best_churn_model1.pkl\")\n",
    "joblib.dump(scaler, \"scaler1.pkl\")\n",
    "print(\"✅ Best model (stacking ensemble) and scaler saved successfully!\")\n"
   ]
  }
 ],
 "metadata": {
  "kernelspec": {
   "display_name": ".venv",
   "language": "python",
   "name": "python3"
  },
  "language_info": {
   "codemirror_mode": {
    "name": "ipython",
    "version": 3
   },
   "file_extension": ".py",
   "mimetype": "text/x-python",
   "name": "python",
   "nbconvert_exporter": "python",
   "pygments_lexer": "ipython3",
   "version": "3.11.5"
  }
 },
 "nbformat": 4,
 "nbformat_minor": 5
}
